{
 "cells": [
  {
   "cell_type": "markdown",
   "id": "87d90650-5a11-4522-87b6-7681f9fb4729",
   "metadata": {},
   "source": [
    "# 판다스 용도\n",
    "## 데이터수집 정리하는 역활\n",
    "# 자료형식\n",
    "## 시리즈, 데이터프레임\n",
    "# 판다스 목적\n",
    "## 서로 다른 여러가지 유형의 데이터를 공통 포맷으로 정리하는 것"
   ]
  },
  {
   "cell_type": "markdown",
   "id": "447e4432-02dd-42fe-b701-eed5c9dfc6f8",
   "metadata": {},
   "source": [
    "1. 시리즈\n",
    "    1.1 1차원 배열\n",
    "   "
   ]
  },
  {
   "cell_type": "code",
   "execution_count": 5,
   "id": "21e4c56b-4e5b-41e2-88f1-7f252bef67df",
   "metadata": {},
   "outputs": [
    {
     "name": "stdout",
     "output_type": "stream",
     "text": [
      "a    1\n",
      "b    2\n",
      "c    3\n",
      "dtype: int64\n"
     ]
    }
   ],
   "source": [
    "import pandas as pd\n",
    "dict_data = {'a':1, 'b':2, 'c':3}\n",
    "sr =pd.Series(dict_data)\n",
    "print(sr)"
   ]
  },
  {
   "cell_type": "code",
   "execution_count": 7,
   "id": "18adefd3-1fe1-4bbd-ac14-4208af3a8839",
   "metadata": {},
   "outputs": [
    {
     "name": "stdout",
     "output_type": "stream",
     "text": [
      "[10, 20, 30, 40, 50, 60, 70, 80, 90, 100]\n"
     ]
    }
   ],
   "source": [
    "list_data = list(range(10,101,10))\n",
    "print(list_data)"
   ]
  },
  {
   "cell_type": "code",
   "execution_count": 8,
   "id": "047630cd-842b-42c9-80cb-0216c1c2701a",
   "metadata": {},
   "outputs": [
    {
     "data": {
      "text/plain": [
       "0     10\n",
       "1     20\n",
       "2     30\n",
       "3     40\n",
       "4     50\n",
       "5     60\n",
       "6     70\n",
       "7     80\n",
       "8     90\n",
       "9    100\n",
       "dtype: int64"
      ]
     },
     "execution_count": 8,
     "metadata": {},
     "output_type": "execute_result"
    }
   ],
   "source": [
    "#리스트 자료를 시리즈로 만들기\n",
    "pd.Series(list_data)"
   ]
  },
  {
   "cell_type": "code",
   "execution_count": 10,
   "id": "c83c9717-6139-4b1c-a44d-0c69fcb11c17",
   "metadata": {},
   "outputs": [
    {
     "name": "stdout",
     "output_type": "stream",
     "text": [
      "a    100\n",
      "b    200\n",
      "c    300\n",
      "dtype: int64\n"
     ]
    }
   ],
   "source": [
    "list_data=[100,200,300]\n",
    "list_sr =pd.Series(list_data, index=['a','b','c'])\n",
    "print(list_sr)"
   ]
  },
  {
   "cell_type": "code",
   "execution_count": 12,
   "id": "ec761870-d41f-46b4-a2b2-25961006ee1e",
   "metadata": {},
   "outputs": [
    {
     "name": "stdout",
     "output_type": "stream",
     "text": [
      "a    300\n",
      "b    400\n",
      "dtype: int64\n"
     ]
    }
   ],
   "source": [
    "#튜플자료를 시리즈로 만들기\n",
    "tuple_data=(300,400,)\n",
    "tuple_sr = pd.Series(tuple_data, index=['a','b'])\n",
    "print(tuple_sr)\n"
   ]
  },
  {
   "cell_type": "code",
   "execution_count": 24,
   "id": "1c9ae617-524b-4ec9-aa95-8cd65b7f90e1",
   "metadata": {},
   "outputs": [
    {
     "name": "stdout",
     "output_type": "stream",
     "text": [
      "0    2019-01-02\n",
      "1          3.14\n",
      "2           ABC\n",
      "3           100\n",
      "4          True\n",
      "dtype: object\n",
      "[1 2 3]\n"
     ]
    }
   ],
   "source": [
    "list_sr = ('2019-01-02',3.14,'ABC',100,'True')\n",
    "item_list =pd.Series(list_sr, index = range(5))\n",
    "print(item_list)\n",
    "sr_index=sr.index\n",
    "sr_values=sr.values\n",
    "\n",
    "print(sr_values)"
   ]
  },
  {
   "cell_type": "code",
   "execution_count": 27,
   "id": "b9bf5046-42dd-48e4-a029-fe608e1b75d2",
   "metadata": {},
   "outputs": [
    {
     "name": "stdout",
     "output_type": "stream",
     "text": [
      "Index(['딸기', '바나나'], dtype='object')\n"
     ]
    }
   ],
   "source": [
    "dict_data={\"딸기\":5000,\"바나나\":2000}\n",
    "fruit=pd.Series(dict_data)\n",
    "data_list=fruit.index\n",
    "print(data_list)"
   ]
  },
  {
   "cell_type": "code",
   "execution_count": 36,
   "id": "26563fcf-04fa-491e-8831-157ad916b4b7",
   "metadata": {},
   "outputs": [
    {
     "name": "stdout",
     "output_type": "stream",
     "text": [
      "a    10\n",
      "b    20\n",
      "c    30\n",
      "d    40\n",
      "e    50\n",
      "f    60\n",
      "dtype: int64\n",
      "30\n"
     ]
    },
    {
     "name": "stderr",
     "output_type": "stream",
     "text": [
      "C:\\Users\\enjoy\\AppData\\Local\\Temp\\ipykernel_3436\\3359486394.py:5: FutureWarning: Series.__getitem__ treating keys as positions is deprecated. In a future version, integer keys will always be treated as labels (consistent with DataFrame behavior). To access a value by position, use `ser.iloc[pos]`\n",
      "  print(sr_num[2])\n"
     ]
    }
   ],
   "source": [
    "num_list = list(range(10,61,10))\n",
    "index_list = ['a','b','c','d','e','f']\n",
    "sr_num = pd.Series(num_list, index = index_list)\n",
    "print(sr_num)\n",
    "print(sr_num[2])"
   ]
  },
  {
   "cell_type": "code",
   "execution_count": 40,
   "id": "988c67aa-5f19-487d-ab72-8b27b7759c93",
   "metadata": {},
   "outputs": [
    {
     "ename": "SyntaxError",
     "evalue": "invalid syntax (2233415782.py, line 5)",
     "output_type": "error",
     "traceback": [
      "\u001b[1;36m  Cell \u001b[1;32mIn[40], line 5\u001b[1;36m\u001b[0m\n\u001b[1;33m    print(sr[['성별','생년월일']]:\u001b[0m\n\u001b[1;37m                           ^\u001b[0m\n\u001b[1;31mSyntaxError\u001b[0m\u001b[1;31m:\u001b[0m invalid syntax\n"
     ]
    }
   ],
   "source": [
    "#### tup_data=('영인','2010-05-10','여', True)\n",
    "sr = pd.Series(tup_data, index=['이름', '생년월일', '성별', '학생여부'])\n",
    "print(sr['성별'])\n",
    "print(sr[0])\n",
    "print(sr[['성별','생년월일']]:\n",
    "\n",
    "print(sr['이름':'성별'])\n",
    "    "
   ]
  },
  {
   "cell_type": "code",
   "execution_count": 43,
   "id": "7970a82b-6eab-4d5c-97b6-35e0b5850c2b",
   "metadata": {},
   "outputs": [
    {
     "name": "stdout",
     "output_type": "stream",
     "text": [
      "100    0\n",
      "200    0\n",
      "300    0\n",
      "dtype: int64\n",
      "0      0\n",
      "1      0\n",
      "2      0\n",
      "3      0\n",
      "4      0\n",
      "      ..\n",
      "96     0\n",
      "97     0\n",
      "98     0\n",
      "99     0\n",
      "100    0\n",
      "Length: 101, dtype: int64\n"
     ]
    }
   ],
   "source": [
    "sr_empty = pd.Series()\n",
    "sr_0 =pd.Series(0)\n",
    "sr_0 =pd.Series(0,index=[100,200,300])\n",
    "print(sr_0)\n",
    "index_list_0100=list(range(0,101,1))\n",
    "sr_0=pd.Series(0,index=index_list_0100)\n",
    "print(sr_0)\n",
    "\n"
   ]
  },
  {
   "cell_type": "code",
   "execution_count": 46,
   "id": "0bd5e2ca-fde9-4b87-9538-0b62cddc9a0f",
   "metadata": {},
   "outputs": [
    {
     "name": "stdout",
     "output_type": "stream",
     "text": [
      "a    100\n",
      "b    200\n",
      "c    300\n",
      "d    400\n",
      "e    500\n",
      "dtype: int64\n"
     ]
    }
   ],
   "source": [
    "ex1_list =range(100,501,100)\n",
    "ex1_index =['a','b','c','d','e']\n",
    "ex1_sr = pd.Series(ex1_list,index =ex1_index)\n",
    "print(ex1_sr)"
   ]
  },
  {
   "cell_type": "code",
   "execution_count": 48,
   "id": "8f1ff142-add4-467c-ba04-f1b2ac4e1677",
   "metadata": {},
   "outputs": [
    {
     "name": "stdout",
     "output_type": "stream",
     "text": [
      "20 40\n"
     ]
    },
    {
     "name": "stderr",
     "output_type": "stream",
     "text": [
      "C:\\Users\\enjoy\\AppData\\Local\\Temp\\ipykernel_3436\\4236960758.py:3: FutureWarning: Series.__getitem__ treating keys as positions is deprecated. In a future version, integer keys will always be treated as labels (consistent with DataFrame behavior). To access a value by position, use `ser.iloc[pos]`\n",
      "  print(s[1], s[3])\n"
     ]
    }
   ],
   "source": [
    "import pandas as pd\n",
    "s = pd.Series([10, 20, 30, 40, 50], index=['a', 'b', 'c', 'd', 'e'])\n",
    "print(s[1], s[3])"
   ]
  },
  {
   "cell_type": "code",
   "execution_count": 49,
   "id": "d892a3ef-e4f0-4e9b-9182-ef16eb344e56",
   "metadata": {},
   "outputs": [
    {
     "name": "stdout",
     "output_type": "stream",
     "text": [
      "Index(['A', 'B', 'C', 'D', 'E'], dtype='object')\n"
     ]
    }
   ],
   "source": [
    "import pandas as pd\n",
    "s = pd.Series([12, 24, 36, 48, 60], index=['A','B','C','D','E'])\n",
    "print(s.index)"
   ]
  },
  {
   "cell_type": "code",
   "execution_count": 50,
   "id": "37e6d316-1464-40bc-a15e-4c7411a3f1d1",
   "metadata": {},
   "outputs": [
    {
     "name": "stdout",
     "output_type": "stream",
     "text": [
      "A    12\n",
      "B    24\n",
      "C    36\n",
      "D    48\n",
      "E    60\n",
      "dtype: int64\n"
     ]
    }
   ],
   "source": [
    "print(s)"
   ]
  },
  {
   "cell_type": "code",
   "execution_count": 53,
   "id": "6b0f5086-33f2-423d-a59a-e3ae62246da4",
   "metadata": {},
   "outputs": [
    {
     "name": "stdout",
     "output_type": "stream",
     "text": [
      "Python     95\n",
      "Math       88\n",
      "English    76\n",
      "History    82\n",
      "dtype: int64\n",
      "95\n"
     ]
    },
    {
     "name": "stderr",
     "output_type": "stream",
     "text": [
      "C:\\Users\\enjoy\\AppData\\Local\\Temp\\ipykernel_3436\\3185167093.py:11: FutureWarning: Series.__getitem__ treating keys as positions is deprecated. In a future version, integer keys will always be treated as labels (consistent with DataFrame behavior). To access a value by position, use `ser.iloc[pos]`\n",
      "  print(ex5[0])\n"
     ]
    }
   ],
   "source": [
    "scores = {\n",
    "    'Python': 95,\n",
    "    'Math': 88,\n",
    "    'English': 76,\n",
    "    'History': 82\n",
    "}\n",
    "ex5_list =scores.values()\n",
    "ex5_index = scores.keys()\n",
    "ex5 = pd.Series(ex5_list, index=ex5_index)\n",
    "print(ex5)\n",
    "print(ex5[0])"
   ]
  },
  {
   "cell_type": "code",
   "execution_count": 55,
   "id": "6aa07e6f-d954-419a-aa49-83cdd5b12497",
   "metadata": {},
   "outputs": [
    {
     "name": "stdout",
     "output_type": "stream",
     "text": [
      "C    35\n",
      "D    45\n",
      "E    55\n",
      "dtype: int64\n"
     ]
    }
   ],
   "source": [
    "#문제3) 조건 필터링\n",
    "#다음 시리즈에서 값이 30보다 큰 데이터만 출력하시오.\n",
    "\n",
    "import pandas as pd\n",
    "s = pd.Series([15, 25, 35, 45, 55], index=['A', 'B', 'C', 'D', 'E'])\n",
    "print(s[s>30])"
   ]
  },
  {
   "cell_type": "code",
   "execution_count": 56,
   "id": "24268d6a-53e4-47f9-b910-3a9dfb537b1d",
   "metadata": {},
   "outputs": [
    {
     "name": "stdout",
     "output_type": "stream",
     "text": [
      "0    15\n",
      "1    20\n",
      "2    25\n",
      "3    30\n",
      "4    35\n",
      "dtype: int64\n"
     ]
    }
   ],
   "source": [
    "#문제4) 연산 적용\n",
    "#아래 시리즈에 10을 더한 새로운 시리즈를 만들어 출력하시오.\n",
    "s = pd.Series([5, 10, 15, 20, 25])\n",
    "s_add=s+10\n",
    "print(s_add)"
   ]
  },
  {
   "cell_type": "code",
   "execution_count": 61,
   "id": "eaed1f87-b17e-4429-b8ee-63b3fcfc53c3",
   "metadata": {},
   "outputs": [
    {
     "name": "stdout",
     "output_type": "stream",
     "text": [
      "85.6\n",
      "428\n"
     ]
    }
   ],
   "source": [
    "#문제7) 시리즈 값의 평균 구하기\n",
    "#다음 시리즈의 평균값을 계산하시오\n",
    "s = pd.Series([80, 90, 75, 95, 88])\n",
    "#평균\n",
    "print(s.mean())\n",
    "#합계 \n",
    "print(s.sum())"
   ]
  },
  {
   "cell_type": "code",
   "execution_count": 62,
   "id": "b09d0257-b4f9-4f6a-ad44-775500a072d2",
   "metadata": {},
   "outputs": [
    {
     "name": "stdout",
     "output_type": "stream",
     "text": [
      "1    16\n",
      "3    33\n",
      "0    42\n",
      "2    58\n",
      "4    95\n",
      "dtype: int64\n"
     ]
    }
   ],
   "source": [
    "#문제8) 시리즈 정렬\n",
    "#아래 시리즈를 값 기준으로 오름차순 정렬하여 출력하시오.\n",
    "s = pd.Series([42, 16, 58, 33, 95])\n",
    "print(s.sort_values())"
   ]
  },
  {
   "cell_type": "code",
   "execution_count": 73,
   "id": "c9e8f93e-e0e6-4863-ae52-b83b9c9da385",
   "metadata": {},
   "outputs": [
    {
     "name": "stdout",
     "output_type": "stream",
     "text": [
      "0    10.0\n",
      "1     0.0\n",
      "2    30.0\n",
      "3     0.0\n",
      "4    50.0\n",
      "dtype: float64\n"
     ]
    }
   ],
   "source": [
    "#문제9) 시리즈 NaN 처리\n",
    "#다음 시리즈에서 NaN을 0으로 채운 새로운 시리즈를 만들어 출력하시오.\n",
    "import pandas as pd\n",
    "import numpy as np\n",
    "\n",
    "s = pd.Series([10, np.nan, 30, np.nan, 50])\n",
    "s_0 = s.fillna(0)\n",
    "print(s_0)"
   ]
  },
  {
   "cell_type": "code",
   "execution_count": 76,
   "id": "2ce8f2e5-b059-4fde-85af-e4839af5bb12",
   "metadata": {},
   "outputs": [
    {
     "name": "stdout",
     "output_type": "stream",
     "text": [
      "A    True\n",
      "C    True\n",
      "E    True\n",
      "dtype: bool\n"
     ]
    }
   ],
   "source": [
    "# 문제10) 시리즈 불린 인덱싱\n",
    "# 다음 시리즈에서 True인 인덱스만 출력하시오.\n",
    "# 시리즈에 시리즈리스트를 대입\n",
    "s = pd.Series([True, False, True, False, True], index=['A', 'B', 'C', 'D', 'E'])\n",
    "print(s[s])"
   ]
  },
  {
   "cell_type": "code",
   "execution_count": 77,
   "id": "df68c590-56e4-4983-9970-93c8f8571755",
   "metadata": {},
   "outputs": [
    {
     "name": "stdout",
     "output_type": "stream",
     "text": [
      "3    100\n",
      "dtype: int64\n"
     ]
    }
   ],
   "source": [
    "s_num =[10,3,20,100]\n",
    "s_num_dp = pd.Series(s_num)\n",
    "print(s_num_dp[s_num_dp>30])"
   ]
  },
  {
   "cell_type": "code",
   "execution_count": null,
   "id": "f77938c2-2981-4a6b-ac72-3bd939b0802b",
   "metadata": {},
   "outputs": [],
   "source": []
  }
 ],
 "metadata": {
  "kernelspec": {
   "display_name": "aia",
   "language": "python",
   "name": "aia"
  },
  "language_info": {
   "codemirror_mode": {
    "name": "ipython",
    "version": 3
   },
   "file_extension": ".py",
   "mimetype": "text/x-python",
   "name": "python",
   "nbconvert_exporter": "python",
   "pygments_lexer": "ipython3",
   "version": "3.10.16"
  }
 },
 "nbformat": 4,
 "nbformat_minor": 5
}
